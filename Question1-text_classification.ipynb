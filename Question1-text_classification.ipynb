{
 "cells": [
  {
   "cell_type": "code",
   "execution_count": 1,
   "metadata": {
    "id": "YZ6pNkwj5bPf"
   },
   "outputs": [],
   "source": [
    "from sklearn.feature_extraction.text import CountVectorizer, TfidfVectorizer\n",
    "from sklearn import metrics\n",
    "from sklearn.datasets import fetch_20newsgroups\n",
    "from sklearn.pipeline import Pipeline\n",
    "from sklearn.naive_bayes import MultinomialNB\n",
    "import logging\n",
    "from sklearn.feature_extraction.text import TfidfTransformer\n",
    "from nltk.corpus import stopwords\n",
    "from sklearn.neighbors import KNeighborsClassifier\n",
    "from sklearn.svm import SVC\n",
    "from sklearn.metrics import classification_report\n",
    "import nltk"
   ]
  },
  {
   "cell_type": "code",
   "execution_count": 2,
   "metadata": {
    "id": "rDJ_LuMK56-F"
   },
   "outputs": [],
   "source": [
    "twenty_train = fetch_20newsgroups(subset='train', shuffle=True)"
   ]
  },
  {
   "cell_type": "code",
   "execution_count": 3,
   "metadata": {
    "colab": {
     "base_uri": "https://localhost:8080/"
    },
    "id": "QF61mPSh59hT",
    "outputId": "f58813d4-be2b-4e12-c3cd-af9d0ddcc81c"
   },
   "outputs": [
    {
     "data": {
      "text/plain": [
       "MultinomialNB()"
      ]
     },
     "execution_count": 3,
     "metadata": {},
     "output_type": "execute_result"
    }
   ],
   "source": [
    "tfidf_Vect = TfidfVectorizer()\n",
    "X_train_tfidf = tfidf_Vect.fit_transform(twenty_train.data)\n",
    "clf = MultinomialNB()\n",
    "clf.fit(X_train_tfidf, twenty_train.target)"
   ]
  },
  {
   "cell_type": "code",
   "execution_count": 4,
   "metadata": {
    "id": "8ssbDU7p6AWH"
   },
   "outputs": [],
   "source": [
    "twenty_test = fetch_20newsgroups(subset='test', shuffle=True)"
   ]
  },
  {
   "cell_type": "code",
   "execution_count": 5,
   "metadata": {
    "id": "sjVlq5up6F3R"
   },
   "outputs": [],
   "source": [
    "X_test_tfidf = tfidf_Vect.transform(twenty_test.data)"
   ]
  },
  {
   "cell_type": "code",
   "execution_count": 7,
   "metadata": {
    "id": "TQfLohRJjzFw"
   },
   "outputs": [],
   "source": [
    "predicted = clf.predict(X_test_tfidf)"
   ]
  },
  {
   "cell_type": "code",
   "execution_count": 8,
   "metadata": {
    "colab": {
     "base_uri": "https://localhost:8080/"
    },
    "id": "rSW8Aw1ljzJH",
    "outputId": "8c42da60-fb02-48f5-d18b-ef733053f85b"
   },
   "outputs": [
    {
     "name": "stdout",
     "output_type": "stream",
     "text": [
      "0.7738980350504514\n"
     ]
    }
   ],
   "source": [
    "score = metrics.accuracy_score(twenty_test.target, predicted)\n",
    "print(score)"
   ]
  },
  {
   "cell_type": "code",
   "execution_count": 9,
   "metadata": {
    "id": "Q6tnRU9g5pSh",
    "outputId": "95128d99-0415-473e-bd17-22fe88c4a358"
   },
   "outputs": [
    {
     "name": "stdout",
     "output_type": "stream",
     "text": [
      "              precision    recall  f1-score   support\n",
      "\n",
      "           0       0.80      0.52      0.63       319\n",
      "           1       0.81      0.65      0.72       389\n",
      "           2       0.82      0.65      0.73       394\n",
      "           3       0.67      0.78      0.72       392\n",
      "           4       0.86      0.77      0.81       385\n",
      "           5       0.89      0.75      0.82       395\n",
      "           6       0.93      0.69      0.80       390\n",
      "           7       0.85      0.92      0.88       396\n",
      "           8       0.94      0.93      0.93       398\n",
      "           9       0.92      0.90      0.91       397\n",
      "          10       0.89      0.97      0.93       399\n",
      "          11       0.59      0.97      0.74       396\n",
      "          12       0.84      0.60      0.70       393\n",
      "          13       0.92      0.74      0.82       396\n",
      "          14       0.84      0.89      0.87       394\n",
      "          15       0.44      0.98      0.61       398\n",
      "          16       0.64      0.94      0.76       364\n",
      "          17       0.93      0.91      0.92       376\n",
      "          18       0.96      0.42      0.58       310\n",
      "          19       0.97      0.14      0.24       251\n",
      "\n",
      "    accuracy                           0.77      7532\n",
      "   macro avg       0.83      0.76      0.76      7532\n",
      "weighted avg       0.82      0.77      0.77      7532\n",
      "\n"
     ]
    }
   ],
   "source": [
    "X = twenty_test.target\n",
    "Y = predicted\n",
    "print(classification_report(X, Y))"
   ]
  },
  {
   "cell_type": "code",
   "execution_count": 10,
   "metadata": {
    "id": "hr3BLTzA5pSl",
    "outputId": "795dfd96-90b2-4763-b807-b31e9d1c1b81"
   },
   "outputs": [
    {
     "name": "stdout",
     "output_type": "stream",
     "text": [
      "Accuracy of SVM: 0.8186404673393521\n"
     ]
    }
   ],
   "source": [
    "# feature extraction using Tfidf\n",
    "tfidf_Vect = TfidfVectorizer()\n",
    "# transforming the x training data using tfidf\n",
    "X_train_tfidf = tfidf_Vect.fit_transform(twenty_train.data)\n",
    "svc = SVC()\n",
    "# training the svc model using training data\n",
    "svc.fit(X_train_tfidf, twenty_train.target)\n",
    "# retrieve the test data\n",
    "twenty_test = fetch_20newsgroups(subset='test', shuffle=True)\n",
    "# transorming the x test data using tfidf\n",
    "X_test_tfidf = tfidf_Vect.transform(twenty_test.data)\n",
    "# predicting the test data\n",
    "predictedresults = svc.predict(X_test_tfidf)\n",
    "# calculating the accuracy score using sklearn library\n",
    "score = metrics.accuracy_score(twenty_test.target, predictedresults)\n",
    "print(\"Accuracy of SVM:\", score)"
   ]
  },
  {
   "cell_type": "code",
   "execution_count": 11,
   "metadata": {
    "id": "82YZ62aF5pSm",
    "outputId": "67a35d03-3b8a-44e7-f1d5-daa8a974bb51"
   },
   "outputs": [
    {
     "name": "stdout",
     "output_type": "stream",
     "text": [
      "              precision    recall  f1-score   support\n",
      "\n",
      "           0       0.83      0.71      0.76       319\n",
      "           1       0.62      0.82      0.71       389\n",
      "           2       0.80      0.70      0.75       394\n",
      "           3       0.73      0.78      0.76       392\n",
      "           4       0.82      0.83      0.82       385\n",
      "           5       0.83      0.73      0.77       395\n",
      "           6       0.73      0.91      0.81       390\n",
      "           7       0.90      0.87      0.89       396\n",
      "           8       0.96      0.93      0.95       398\n",
      "           9       0.88      0.91      0.90       397\n",
      "          10       0.97      0.91      0.94       399\n",
      "          11       0.96      0.85      0.90       396\n",
      "          12       0.65      0.85      0.74       393\n",
      "          13       0.88      0.78      0.82       396\n",
      "          14       0.93      0.88      0.90       394\n",
      "          15       0.79      0.92      0.85       398\n",
      "          16       0.75      0.88      0.81       364\n",
      "          17       0.97      0.81      0.88       376\n",
      "          18       0.75      0.59      0.66       310\n",
      "          19       0.79      0.55      0.65       251\n",
      "\n",
      "    accuracy                           0.82      7532\n",
      "   macro avg       0.83      0.81      0.81      7532\n",
      "weighted avg       0.83      0.82      0.82      7532\n",
      "\n"
     ]
    }
   ],
   "source": [
    "# retrieve the test data\n",
    "twenty_test = fetch_20newsgroups(subset='test', shuffle=True)\n",
    "# transorming the x test data using tfidf\n",
    "X_test_tfidf = tfidf_Vect.transform(twenty_test.data)\n",
    "# predicting the test data\n",
    "predictedresults = svc.predict(X_test_tfidf)\n",
    "X_predictedresults = twenty_test.target\n",
    "Y_predictedresults = predictedresults\n",
    "# plotting the classification report\n",
    "print(classification_report(X_predictedresults, Y_predictedresults))"
   ]
  },
  {
   "cell_type": "code",
   "execution_count": 77,
   "metadata": {
    "id": "xoEpcdxX5pSn",
    "outputId": "4909f0e8-ba74-415c-ade0-12964b02bbcc"
   },
   "outputs": [
    {
     "name": "stdout",
     "output_type": "stream",
     "text": [
      "Accuracy of KNN: 0.6558682952734998\n"
     ]
    }
   ],
   "source": [
    "# applying the Knn classifer on the text\n",
    "knn = KNeighborsClassifier(n_neighbors=7)\n",
    "# creating the model uding the trainging data.\n",
    "clf = knn.fit(X_train_tfidf, twenty_train.target)\n",
    "# fetching the test data\n",
    "twenty_test = fetch_20newsgroups(subset='test', shuffle=True)\n",
    "# transorming the x test data using tfidf\n",
    "X_test_tfidf = tfidf_Vect.transform(twenty_test.data)\n",
    "# predicting the test data\n",
    "predictedresults = clf.predict(X_test_tfidf)\n",
    "# calculating the accuracy score using sklearn library\n",
    "score = metrics.accuracy_score(twenty_test.target, predictedresults)\n",
    "print(\"Accuracy of KNN:\", score)"
   ]
  },
  {
   "cell_type": "code",
   "execution_count": 57,
   "metadata": {
    "id": "IyEorjXJ5pSo",
    "outputId": "bbfaded4-2c07-47b9-dc77-3250c823c38e"
   },
   "outputs": [
    {
     "name": "stdout",
     "output_type": "stream",
     "text": [
      "Accuracy of KNN: 0.6578597981943707\n"
     ]
    }
   ],
   "source": [
    "# applying the knn classifier with neighbours 3\n",
    "knn1 = KNeighborsClassifier(n_neighbors=3)\n",
    "# creating the model uding the trainging data.\n",
    "clf1 = knn1.fit(X_train_tfidf, twenty_train.target)\n",
    "# fetching the test data\n",
    "twenty_test = fetch_20newsgroups(subset='test', shuffle=True)\n",
    "# transorming the x test data using tfidf\n",
    "X_test_tfidf = tfidf_Vect.transform(twenty_test.data)\n",
    "# predicting the test data\n",
    "predictedresults = clf1.predict(X_test_tfidf)\n",
    "# calculating the accuracy score using sklearn library\n",
    "score = metrics.accuracy_score(twenty_test.target, predictedresults)\n",
    "print(\"Accuracy of KNN:\", score)"
   ]
  },
  {
   "cell_type": "code",
   "execution_count": 65,
   "metadata": {
    "id": "El_xESOR5pSp",
    "outputId": "c45623bf-8da9-4fa2-fbd9-5f8375823fe1"
   },
   "outputs": [
    {
     "name": "stdout",
     "output_type": "stream",
     "text": [
      "              precision    recall  f1-score   support\n",
      "\n",
      "           0       0.43      0.76      0.55       319\n",
      "           1       0.55      0.60      0.57       389\n",
      "           2       0.58      0.58      0.58       394\n",
      "           3       0.54      0.58      0.56       392\n",
      "           4       0.60      0.53      0.56       385\n",
      "           5       0.70      0.59      0.64       395\n",
      "           6       0.60      0.44      0.51       390\n",
      "           7       0.74      0.68      0.71       396\n",
      "           8       0.81      0.81      0.81       398\n",
      "           9       0.74      0.72      0.73       397\n",
      "          10       0.86      0.85      0.85       399\n",
      "          11       0.71      0.84      0.77       396\n",
      "          12       0.66      0.47      0.55       393\n",
      "          13       0.81      0.47      0.60       396\n",
      "          14       0.77      0.76      0.77       394\n",
      "          15       0.71      0.77      0.74       398\n",
      "          16       0.71      0.74      0.73       364\n",
      "          17       0.61      0.79      0.69       376\n",
      "          18       0.53      0.61      0.57       310\n",
      "          19       0.55      0.46      0.50       251\n",
      "\n",
      "    accuracy                           0.66      7532\n",
      "   macro avg       0.66      0.65      0.65      7532\n",
      "weighted avg       0.67      0.66      0.65      7532\n",
      "\n"
     ]
    }
   ],
   "source": [
    "# retrieve the test data\n",
    "twenty_test = fetch_20newsgroups(subset='test', shuffle=True)\n",
    "# transorming the x test data using tfidf\n",
    "X_test_tfidf = tfidf_Vect.transform(twenty_test.data)\n",
    "# predicting the test data\n",
    "predicted = knn.predict(X_test_tfidf)\n",
    "X_predictedresults = twenty_test.target\n",
    "Y_predictedresults = predicted\n",
    "# plotting the classification report\n",
    "print(classification_report(X_predictedresults, Y_predictedresults))"
   ]
  },
  {
   "cell_type": "code",
   "execution_count": 48,
   "metadata": {
    "id": "AeTib4su5pSq"
   },
   "outputs": [],
   "source": [
    "# configured the vectorizer to bigram\n",
    "bigram_tfidf_Vect = TfidfVectorizer(ngram_range=(1,2))"
   ]
  },
  {
   "cell_type": "code",
   "execution_count": 49,
   "metadata": {
    "id": "Zv_16TFo5pSr"
   },
   "outputs": [],
   "source": [
    "# transforming the data based bigrams\n",
    "bigram_X_train_tfidf = bigram_tfidf_Vect.fit_transform(twenty_train.data)\n",
    "bigram_X_test_tfidf = bigram_tfidf_Vect.transform(twenty_test.data)"
   ]
  },
  {
   "cell_type": "code",
   "execution_count": 50,
   "metadata": {
    "id": "JgnIRp845pSr",
    "outputId": "27acdc52-b009-4b71-930b-738aede670b9"
   },
   "outputs": [
    {
     "data": {
      "text/plain": [
       "KNeighborsClassifier(n_neighbors=7)"
      ]
     },
     "execution_count": 50,
     "metadata": {},
     "output_type": "execute_result"
    }
   ],
   "source": [
    "# applying the kn classifier\n",
    "bigram_clf = KNeighborsClassifier(n_neighbors=7)\n",
    "# training the model with bigram data\n",
    "bigram_clf.fit(bigram_X_train_tfidf, twenty_train.target)"
   ]
  },
  {
   "cell_type": "code",
   "execution_count": 51,
   "metadata": {
    "id": "jO5cyeAC5pSs",
    "outputId": "f5b04b7d-37f7-4647-d4a7-1aa95ae39d0e"
   },
   "outputs": [
    {
     "name": "stdout",
     "output_type": "stream",
     "text": [
      "accuracy score by applying bigram 0.616436537440255\n"
     ]
    }
   ],
   "source": [
    "# predicting the data using test data.\n",
    "predictedresults =bigram_clf.predict(bigram_X_test_tfidf)\n",
    "# calculating the accuracy score using sklearn library\n",
    "score = metrics.accuracy_score(twenty_test.target, predictedresults)\n",
    "print(\"accuracy score after applying bigram\",score)"
   ]
  },
  {
   "cell_type": "code",
   "execution_count": 58,
   "metadata": {
    "id": "vV_6AaQn5pSt",
    "outputId": "c3518887-e8e8-4063-9860-5f38430d8c07"
   },
   "outputs": [
    {
     "name": "stderr",
     "output_type": "stream",
     "text": [
      "[nltk_data] Downloading package stopwords to\n",
      "[nltk_data]     C:\\Users\\eduku\\AppData\\Roaming\\nltk_data...\n",
      "[nltk_data]   Unzipping corpora\\stopwords.zip.\n"
     ]
    }
   ],
   "source": [
    "nltk.download('stopwords')\n",
    "stop_tfidf_Vect = TfidfVectorizer(stop_words = stopwords.words('english'))"
   ]
  },
  {
   "cell_type": "code",
   "execution_count": 59,
   "metadata": {
    "id": "gwXqKGuS5pSu"
   },
   "outputs": [],
   "source": [
    "# removed the word english and vectorized the data from the train and test data\n",
    "stop_X_train_tfidf = stop_tfidf_Vect.fit_transform(twenty_train.data)\n",
    "stop_X_test_tfidf = stop_tfidf_Vect.transform(twenty_test.data)"
   ]
  },
  {
   "cell_type": "code",
   "execution_count": 60,
   "metadata": {
    "id": "BY8QO23J5pSv",
    "outputId": "b8fa9b21-ae07-43d9-e24e-81b96e6ccb80"
   },
   "outputs": [
    {
     "data": {
      "text/plain": [
       "SVC()"
      ]
     },
     "execution_count": 60,
     "metadata": {},
     "output_type": "execute_result"
    }
   ],
   "source": [
    "# applied SVM model on the data\n",
    "stop_clf = SVC()\n",
    "# trained the model\n",
    "stop_clf.fit(stop_X_train_tfidf, twenty_train.target)"
   ]
  },
  {
   "cell_type": "code",
   "execution_count": 61,
   "metadata": {
    "id": "dUinqlxn5pSv",
    "outputId": "f2ed05fd-9e5d-4e4c-c348-830eb1636061"
   },
   "outputs": [
    {
     "name": "stdout",
     "output_type": "stream",
     "text": [
      "accuracy score by applying stopword 0.8254115772703133\n"
     ]
    }
   ],
   "source": [
    "# predicted the data \n",
    "predictedresults =stop_clf.predict(stop_X_test_tfidf)\n",
    "# calculated the accuracy socre\n",
    "score = metrics.accuracy_score(twenty_test.target, predictedresults)\n",
    "print(\"accuracy score after applying stopword\",score)"
   ]
  },
  {
   "cell_type": "code",
   "execution_count": null,
   "metadata": {
    "id": "n8JNwkgJ5pSw"
   },
   "outputs": [],
   "source": []
  },
  {
   "cell_type": "code",
   "execution_count": null,
   "metadata": {
    "id": "2CGHw9C15pSw"
   },
   "outputs": [],
   "source": []
  }
 ],
 "metadata": {
  "colab": {
   "collapsed_sections": [],
   "name": "text_classification.ipynb",
   "provenance": []
  },
  "kernelspec": {
   "display_name": "Python 3 (ipykernel)",
   "language": "python",
   "name": "python3"
  },
  "language_info": {
   "codemirror_mode": {
    "name": "ipython",
    "version": 3
   },
   "file_extension": ".py",
   "mimetype": "text/x-python",
   "name": "python",
   "nbconvert_exporter": "python",
   "pygments_lexer": "ipython3",
   "version": "3.9.7"
  }
 },
 "nbformat": 4,
 "nbformat_minor": 1
}
